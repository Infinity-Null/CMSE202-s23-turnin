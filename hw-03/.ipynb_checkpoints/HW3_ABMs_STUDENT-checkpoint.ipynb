{
 "cells": [
  {
   "cell_type": "markdown",
   "metadata": {},
   "source": [
    "# Homework Assignment 3 (Individual)\n",
    "\n",
    "---"
   ]
  },
  {
   "cell_type": "markdown",
   "metadata": {},
   "source": [
    "### <p style=\"text-align: right;\"> &#9989; Michelangelo Mumby</p>"
   ]
  },
  {
   "cell_type": "markdown",
   "metadata": {},
   "source": [
    "\n",
    "---\n",
    "## Creating a natural selection model using ABMs and OOP\n",
    "\n",
    "In this homework, we have two sections.\n",
    "\n",
    "- **Part A: Git practice**\n",
    "- **Part B: ABM + OOP: Simulating animal populations -- Natural selection and adaptation**\n",
    "\n",
    "<img src=\"https://raw.githubusercontent.com/huichiayu/cmse_202_802/main/IMGs/rock_mice.jpg\" border=\"0\" align=\"center\" width=\"600\">\n",
    "image found online.\n",
    "\n",
    "\n",
    "### Goal for this homework assignment\n",
    "By now, you have learned ABM and OOP through the assignments of assembling Zoo and Superbugs. Let's use those skills to build a simple fun model of natural selection. \n",
    "\n",
    "**This assignment is due roughly two weeks from now at 11:59 pm on Friday, March 31.** It should be uploaded into the \"Homework Assignments\" submission folder for Homework #3, as well as GitHub turn-in repo.  Submission instructions can be found at the end of the notebook. **The distribution of points can be found in the section headers**.\n"
   ]
  },
  {
   "cell_type": "markdown",
   "metadata": {},
   "source": [
    "---\n",
    "## Part 0: Upload this file to your Git repository to track your progress on your assignment (15 pt)\n",
    "\n",
    "#### Note: This is different from previous assignments!\n",
    "\n",
    "You will add this homework assignment to your GutHub repository you created for previous homework so that you can track your progress on the assignment and preserve the final version that you turn in. We also want you to get practice with **branching**, as that will be important and useful for your group projects. \n",
    "\n",
    "**&#9989; Do the following**:\n",
    "\n",
    "\n",
    "1. Navigate to your `cmse202-s23-turnin` repository \n",
    "2. Create a new branch called `hw03_branch` and move into it. \n",
    "3. Create a new directory called `hw-03`.\n",
    "4. Move this notebook into that **new directory**, then **add** and **commit** it. \n",
    "5. Finally, to test that everything is working, `git push` the file and new branch so they end up in your GitHub repository. \n",
    "\n",
    "**Important**: Make sure to add your Professor and TA as collaborators of this respository with \"Read\" access so that we can see your assignment (you should have done this in the previous homework assignment)\n",
    "\n",
    "**Also**: Make sure that the version of this notebook that you are working on is the same one that you just added to your repository! If you are working on a different copy of the noteobok, **none of your changes will be tracked**!\n",
    "\n",
    "If everything went as intended, the file should now show up on your GitHub account in the `cmse202-s23-turnin` repository inside the `hw-03` directory and `hw-03` branch that you just created.  Periodically, **you'll be asked to commit your changes and push them to the remote GitHub location**. Of course, you can always commit your changes more often than that, if you wish.  It will be good to develop a habit of committing your changes any time you make a significant modification, or when you stop working on the project for a bit.\n",
    "\n"
   ]
  },
  {
   "cell_type": "markdown",
   "metadata": {},
   "source": [
    "---\n",
    "\n",
    "# A natural selection model\n",
    "For this homework assignment, you will be building an Agent-Based Model (ABM) that simulates natural selection in action. You will build two classes for mice, which inhabit the world, and one class for a (predator) hawk. The mice have different fur color, which allows them to blend in better (or worse) with their environment. This model is (loosely) based on an actual case of natural selection involving the [Peppered Moth](https://en.wikipedia.org/wiki/Peppered_moth_evolution).\n",
    "\n",
    "For this assignment, you will be working with an environment class, which will allow you to actually run your simulation. We've also provided you with a generic `Animal_Agent`, which you will use to build your own classes for the natural selection model. You will need to download the generic `Animal_Agent` class and `Environment` class. You can find them here:\n",
    "\n",
    "- `https://raw.githubusercontent.com/msu-cmse-courses/cmse202-S23-data/main/HW/HW3/Animal_Agent_Class.py`\n",
    "- `https://raw.githubusercontent.com/msu-cmse-courses/cmse202-S23-data/main/HW/HW3/Environment.py`"
   ]
  },
  {
   "cell_type": "markdown",
   "metadata": {},
   "source": [
    "## 1. Building Up an Environment with Animal Agents\n",
    "\n",
    "\n",
    "\n",
    "### 1.1 (5 Points)\n",
    "\n",
    "Spend some time exploring the new classes a bit. **Write a few sentences giving a high-level description of how this model works. What are the different classes? What do they do? How can they be used to create an Agent-Based Model?**\n"
   ]
  },
  {
   "cell_type": "markdown",
   "metadata": {},
   "source": [
    "The classes are environment (which simulates the environment, actions, and plots the results) and animal agent (which simulates animals, their interactions with eachother, their genetics, aging, life, death, hunting, procreation, and other features of life). The idea is that animals are put into an environment, and simulate living, dying, children, predation, procreation, and plot the population results at the end of it."
   ]
  },
  {
   "cell_type": "markdown",
   "metadata": {},
   "source": [
    "### 1.2 (15 Points)\n",
    "\n",
    "Construct a new `Environment` object and a new `Animal_Agent` object. Specify that the `Animal_Agent` object is a female. Add the `Animal_Agent` object to the `Environment` object. Run the `simulation` method. You should see there's a bug in the code. **Fix the bug and explain what the cause was.**"
   ]
  },
  {
   "cell_type": "code",
   "execution_count": 1,
   "metadata": {},
   "outputs": [
    {
     "data": {
      "image/png": "[encoded data removed]",
      "text/plain": [
       "<Figure size 432x432 with 1 Axes>"
      ]
     },
     "metadata": {
      "needs_background": "light"
     },
     "output_type": "display_data"
    }
   ],
   "source": [
    "#Write your code here\n",
    "import numpy as np\n",
    "import random\n",
    "from Environment import Environment\n",
    "from Animal_Agent_Class import Animal_Agent\n",
    "\n",
    "environment=Environment()\n",
    "animal=Animal_Agent(sex='F')\n",
    "environment.add_agent(animal)\n",
    "environment.simulate(10)"
   ]
  },
  {
   "cell_type": "markdown",
   "metadata": {},
   "source": [
    "Two bugs were there, switching the order of two parameters \"self.animal_agents\" and \"dt\" fixed the iteration. Then there was an issue where there needed to be an indentation for an if statement to work, that was also fixed."
   ]
  },
  {
   "cell_type": "markdown",
   "metadata": {},
   "source": [
    "### 1.3 (5 Points)\n",
    "\n",
    "**In the cell below, copy your `simulation` code from above and rerun it with the bug fixed to show how the animal runs around.** You should use the `set_allele()` method in the `Animal_Agent` class to randomly assign two alleles to your `Animal_Agent` object.\n"
   ]
  },
  {
   "cell_type": "code",
   "execution_count": 2,
   "metadata": {},
   "outputs": [
    {
     "data": {
      "image/png": "[encoded data removed]",
      "text/plain": [
       "<Figure size 432x432 with 1 Axes>"
      ]
     },
     "metadata": {
      "needs_background": "light"
     },
     "output_type": "display_data"
    }
   ],
   "source": [
    "#Write your code here\n",
    "\n",
    "environment=Environment()\n",
    "animal=Animal_Agent(sex='F')\n",
    "animal.set_allele(alle_d=random.randint(0,1), alle_m=random.randint(0,1))\n",
    "environment.add_agent(animal)\n",
    "environment.simulate(10)"
   ]
  },
  {
   "cell_type": "markdown",
   "metadata": {},
   "source": [
    "### 1.4 (5 Points)\n",
    "\n",
    "**Now add in a predator and let it evolve. Do you see the predator hunting the prey object?** Make sure to set the `ptype` to predator, and the `shape` and `color` to be something different from the prey you defined above (E.g., a shape of \"P\" and a color of \"red\".)"
   ]
  },
  {
   "cell_type": "code",
   "execution_count": 3,
   "metadata": {},
   "outputs": [
    {
     "data": {
      "image/png": "[encoded data removed]",
      "text/plain": [
       "<Figure size 432x432 with 1 Axes>"
      ]
     },
     "metadata": {
      "needs_background": "light"
     },
     "output_type": "display_data"
    }
   ],
   "source": [
    "#Write your code here\n",
    "\n",
    "environment=Environment()\n",
    "animal=Animal_Agent(sex='F')\n",
    "animal.set_allele(alle_d=random.randint(0,1), alle_m=random.randint(0,1))\n",
    "environment.add_agent(animal)\n",
    "predator=Animal_Agent(ptype=\"Predator\",shape=\"P\",color=\"red\")\n",
    "environment.add_agent(predator)\n",
    "environment.simulate(10)"
   ]
  },
  {
   "cell_type": "markdown",
   "metadata": {},
   "source": [
    "### 1.5 (15 Points)\n",
    "\n",
    "**Now add *multiple* predator and prey agents ($N > 1$ for both). Find a combination of $N_{\\mathrm{Prey}}$ and $N_{\\mathrm{Predator}}$ where the Prey can maintain a sustainable population (I.e., they aren't wiped out in the long run).**\n",
    "\n",
    "- **NOTE 1:** Make sure you add both male and female Prey, so they can `Procreate`. \n",
    "- **NOTE 2:** We recommend using the `simulate_plot_populations()` method, so you can monitor the growth/decline of populations."
   ]
  },
  {
   "cell_type": "code",
   "execution_count": 21,
   "metadata": {},
   "outputs": [
    {
     "data": {
      "image/png": "[encoded data removed]",
      "text/plain": [
       "<Figure size 432x432 with 1 Axes>"
      ]
     },
     "metadata": {
      "needs_background": "light"
     },
     "output_type": "display_data"
    },
    {
     "data": {
      "image/png": "[encoded data removed]",
      "text/plain": [
       "<Figure size 432x288 with 1 Axes>"
      ]
     },
     "metadata": {
      "needs_background": "light"
     },
     "output_type": "display_data"
    }
   ],
   "source": [
    "#Write your code here\n",
    "\n",
    "environment=Environment()\n",
    "\n",
    "for i in range(20):\n",
    "    i=animal=Animal_Agent(sex='F')\n",
    "    animal.set_allele(alle_d=random.randint(0,2), alle_m=random.randint(0,2))\n",
    "    environment.add_agent(animal)\n",
    "    i=animal=Animal_Agent(sex='M')\n",
    "    animal.set_allele(alle_d=random.randint(0,2), alle_m=random.randint(0,2))\n",
    "    environment.add_agent(animal)\n",
    "\n",
    "for k in range(2):\n",
    "    k=predator=Animal_Agent(ptype=\"Predator\",shape=\"P\",color=\"red\")\n",
    "    environment.add_agent(predator)\n",
    "environment.simulate(10)\n",
    "environment.simulate_plot_populations(100)"
   ]
  },
  {
   "cell_type": "markdown",
   "metadata": {},
   "source": [
    "### 1.6 (5 Points)\n",
    "\n",
    "**How does the population evolve over time? (I.e., is it linear? Periodic? etc.) What causes this shape? How does the population of light brown and dark brown prey differ (if at all)?**"
   ]
  },
  {
   "cell_type": "markdown",
   "metadata": {},
   "source": [
    "The population seems to grow in a stairstep, semi-parabolic motion. Light brown seems to grow near exponentially, while dark brown grows far less (though still in a somewhat parabolic shape). In my opinion, this shape is caused by the fact thar population grows at a rate relative to its own numbers. The light brown had a higher starting population, and thus got far faster exponential growth than dark brown, which had a lower population."
   ]
  },
  {
   "cell_type": "markdown",
   "metadata": {},
   "source": [
    "## 2. Refining the Model\n",
    "\n",
    "For this part, we're going to use our generic `Animal_Agent`class to construct child classes that represent *specific* animal species for both our predator and prey animals. Specifically, we'll be making a `Mouse` child class for the prey and a `Hawk` child class for the predator. **We'll use these new child classes to run our natural selection model.**\n",
    "\n",
    "### 2.1 (15 Points)\n",
    "\n",
    "Create a new `Mouse` child class, using the `Animal_Agent` as the parent class. The `Mouse` class will largely be the same as the `Animal_Agent` class except for two details: \n",
    "\n",
    "1. **In the `set_allele` method, add a new class attribute called `catch_probability`. For the light-brown mice, set `catch_probability` to 0.95. For dark brown mice, set the `catch_probability` to 0.05.**\n",
    "2. **Change the `Procreate` method so that they create new `Mouse` animal objects.**\n",
    "\n"
   ]
  },
  {
   "cell_type": "code",
   "execution_count": 16,
   "metadata": {},
   "outputs": [],
   "source": [
    "#Write your code here\n",
    "\n",
    "#I adjusted the mate range, because the mice weren't mating even when at saturation\n",
    "class Mouse(Animal_Agent):\n",
    "    def __init__(self,xmax=100,ymax=100,ptype=\"Prey\",sex=\"M\",age_limit=50,catch_radius=10,mate_range=10,gestation=8,shape=\"o\",color=\"saddlebrown\",saturation_pop=150):\n",
    "        super().__init__(xmax,ymax,ptype,sex,age_limit,catch_radius,mate_range,gestation,shape,color,saturation_pop)\n",
    "    def set_allele(self,alle_d=random.choice([0,1]),alle_m=random.choice([0,1])):\n",
    "        self.alle_d = alle_d\n",
    "        self.alle_m = alle_m        \n",
    "\n",
    "        if self.alle_d + self.alle_m >= 1:\n",
    "            self.color = 'goldenrod'\n",
    "            self.catch_probability = 0.95\n",
    "            \n",
    "        else:\n",
    "            self.color = \"saddlebrown\" \n",
    "            self.catch_probability=0.05\n",
    "    def procreate(self,all_agents,time):\n",
    "        child_list = []\n",
    "        val = random.random()\n",
    "        if (self.sex == 'F') and (np.mod(abs(time-self.last_litter_time),self.gestation) == 0):\n",
    "            for agent in all_agents:\n",
    "                if (agent.ptype==\"Prey\") and (agent.sex == \"M\") and (self.get_distance(agent) <= self.mate_range) and (val > (1.0/(1.0+np.exp(-len(all_agents)/self.saturation_pop)))):\n",
    "                    child_num = int(np.random.normal(7,1))\n",
    "                    for jj in range(child_num):\n",
    "                        mom_a = self.alle_d\n",
    "                        if np.random.randint(0,2) == 1:\n",
    "                            mom_a = self.alle_m\n",
    "                        dad_a = agent.alle_d\n",
    "                        if np.random.randint(0,2) == 1:\n",
    "                            dad_a = agent.alle_m               \n",
    "                        child = Mouse(sex=\"F\")\n",
    "                        if np.random.randint(0,2) == 1:\n",
    "                            child = Mouse(sex=\"M\")\n",
    "                        child.set_allele(dad_a,mom_a)\n",
    "                        child_list.append(child)\n",
    "                    self.last_litter_time = time\n",
    "                    break\n",
    "\n",
    "        return child_list"
   ]
  },
  {
   "cell_type": "markdown",
   "metadata": {},
   "source": [
    "### 2.2 (10 Points)\n",
    "\n",
    "Create a new `Hawk` child class, using the `Animal_Agent` as the parent class. The `Hawk` class will largely be the same as the `Animal_Agent` class except for one detail: **In the `hunt` method, incorporate the `catch_probability` of the predator, such that it is harder for a `Hawk` to catch a `Mouse` with a lower `catch_probability`.**"
   ]
  },
  {
   "cell_type": "code",
   "execution_count": 6,
   "metadata": {},
   "outputs": [],
   "source": [
    "#Write your code here\n",
    "class Hawk(Animal_Agent):\n",
    "    def __init__(self,xmax=100,ymax=100,ptype=\"Predator\",sex=\"M\",age_limit=50,catch_radius=10,mate_range=10,gestation=8,shape=\"P\",color=\"red\",saturation_pop=150):\n",
    "        super().__init__(xmax,ymax,ptype,sex,age_limit,catch_radius,mate_range,gestation,shape,color,saturation_pop)\n",
    "    def hunt(self,all_agents):\n",
    "        for agent in all_agents:\n",
    "            if (agent.ptype==\"Prey\") and (agent.age < agent.age_limit) and not (agent.is_caught):\n",
    "                if self.get_distance(agent) < self.catch_radius:\n",
    "                    agent.is_caught=True\n",
    "                return agent\n",
    "        return False\n",
    "    def set_catch_probability():\n",
    "        self.catch_probability=animal_agent.catch_probability"
   ]
  },
  {
   "cell_type": "markdown",
   "metadata": {},
   "source": [
    "### 2.3 (5 Points)\n",
    "\n",
    "**Repeat problem 1.5, replacing the generic prey with the `Mice` animals, and the generic predators with the `Hawk` animals.**"
   ]
  },
  {
   "cell_type": "code",
   "execution_count": 22,
   "metadata": {},
   "outputs": [
    {
     "ename": "TypeError",
     "evalue": "roaming() missing 1 required positional argument: 'self'",
     "output_type": "error",
     "traceback": [
      "\u001b[0;31m---------------------------------------------------------------------------\u001b[0m",
      "\u001b[0;31mTypeError\u001b[0m                                 Traceback (most recent call last)",
      "\u001b[0;32m<ipython-input-22-f6bd4598264c>\u001b[0m in \u001b[0;36m<module>\u001b[0;34m\u001b[0m\n\u001b[1;32m     15\u001b[0m     \u001b[0menvironment\u001b[0m\u001b[0;34m.\u001b[0m\u001b[0madd_agent\u001b[0m\u001b[0;34m(\u001b[0m\u001b[0mHawk\u001b[0m\u001b[0;34m)\u001b[0m\u001b[0;34m\u001b[0m\u001b[0;34m\u001b[0m\u001b[0m\n\u001b[1;32m     16\u001b[0m \u001b[0;34m\u001b[0m\u001b[0m\n\u001b[0;32m---> 17\u001b[0;31m \u001b[0menvironment\u001b[0m\u001b[0;34m.\u001b[0m\u001b[0msimulate_plot_populations\u001b[0m\u001b[0;34m(\u001b[0m\u001b[0;36m100\u001b[0m\u001b[0;34m)\u001b[0m\u001b[0;34m\u001b[0m\u001b[0;34m\u001b[0m\u001b[0m\n\u001b[0m",
      "\u001b[0;32m~/CMSE202-s23-turnin/hw-03/Environment.py\u001b[0m in \u001b[0;36msimulate_plot_populations\u001b[0;34m(self, tot_time)\u001b[0m\n\u001b[1;32m     76\u001b[0m             \u001b[0mtemp_hunted_agents\u001b[0m \u001b[0;34m=\u001b[0m \u001b[0;34m[\u001b[0m\u001b[0;34m]\u001b[0m\u001b[0;34m\u001b[0m\u001b[0;34m\u001b[0m\u001b[0m\n\u001b[1;32m     77\u001b[0m             \u001b[0;32mfor\u001b[0m \u001b[0magent\u001b[0m \u001b[0;32min\u001b[0m \u001b[0mself\u001b[0m\u001b[0;34m.\u001b[0m\u001b[0manimal_agents\u001b[0m\u001b[0;34m:\u001b[0m\u001b[0;34m\u001b[0m\u001b[0;34m\u001b[0m\u001b[0m\n\u001b[0;32m---> 78\u001b[0;31m                 \u001b[0magent\u001b[0m\u001b[0;34m.\u001b[0m\u001b[0mroaming\u001b[0m\u001b[0;34m(\u001b[0m\u001b[0;34m)\u001b[0m\u001b[0;34m\u001b[0m\u001b[0;34m\u001b[0m\u001b[0m\n\u001b[0m\u001b[1;32m     79\u001b[0m \u001b[0;34m\u001b[0m\u001b[0m\n\u001b[1;32m     80\u001b[0m                 \u001b[0;32mif\u001b[0m \u001b[0magent\u001b[0m\u001b[0;34m.\u001b[0m\u001b[0mptype\u001b[0m \u001b[0;34m==\u001b[0m \u001b[0;34m\"Prey\"\u001b[0m\u001b[0;34m:\u001b[0m\u001b[0;34m\u001b[0m\u001b[0;34m\u001b[0m\u001b[0m\n",
      "\u001b[0;31mTypeError\u001b[0m: roaming() missing 1 required positional argument: 'self'"
     ]
    }
   ],
   "source": [
    "#Write your code here\n",
    "\n",
    "environment=Environment()\n",
    "\n",
    "for i in range(50):\n",
    "    i=Mouse(sex='F')\n",
    "    Mouse.set_allele(i,alle_d=random.randint(0,2), alle_m=random.randint(0,2))\n",
    "    environment.add_agent(Mouse)\n",
    "    i=Mouse(sex='M')\n",
    "    Mouse.set_allele(i,alle_d=random.randint(0,2), alle_m=random.randint(0,2))\n",
    "    environment.add_agent(Mouse)\n",
    "    \n",
    "for k in range(2):\n",
    "    k=Hawk=Animal_Agent(ptype=\"Predator\",shape=\"P\",color=\"red\")\n",
    "    environment.add_agent(Hawk)\n",
    "    \n",
    "environment.simulate_plot_populations(100)"
   ]
  },
  {
   "cell_type": "markdown",
   "metadata": {},
   "source": [
    "### 2.4 (5 Points)\n",
    "\n",
    "**Describe the differences between your results using the `Hawk` and `Mouse` class and the results from part 1.5. If and how does this model capture the effects of natural selection?**"
   ]
  },
  {
   "cell_type": "markdown",
   "metadata": {},
   "source": []
  },
  {
   "cell_type": "markdown",
   "metadata": {},
   "source": [
    "---\n",
    "### &#128721; STOP\n",
    "**Pause to commit your changes and push to your Git repository!**\n",
    "\n",
    "## Git push, and then merge your `hw03_branch` into your `main` branch."
   ]
  },
  {
   "cell_type": "markdown",
   "metadata": {},
   "source": []
  }
 ],
 "metadata": {
  "kernelspec": {
   "display_name": "Python 3",
   "language": "python",
   "name": "python3"
  },
  "language_info": {
   "codemirror_mode": {
    "name": "ipython",
    "version": 3
   },
   "file_extension": ".py",
   "mimetype": "text/x-python",
   "name": "python",
   "nbconvert_exporter": "python",
   "pygments_lexer": "ipython3",
   "version": "3.8.8"
  }
 },
 "nbformat": 4,
 "nbformat_minor": 2
}
